{
 "cells": [
  {
   "cell_type": "code",
   "execution_count": 1,
   "id": "initial_id",
   "metadata": {
    "ExecuteTime": {
     "end_time": "2025-08-05T12:24:13.301998Z",
     "start_time": "2025-08-05T12:24:12.548853Z"
    },
    "collapsed": true
   },
   "outputs": [],
   "source": [
    "import pandas as pd\n",
    "import numpy as np\n",
    "import json\n",
    "from pathlib import Path\n",
    "import sys\n",
    "\n",
    "BASE_DIR = Path().resolve().parent.parent\n",
    "# sys.path.append((BASE_DIR / 'vietnamadminunits/parser').as_posix())\n",
    "# from utils import key_normalize\n",
    "\n",
    "from vietnamadminunits.parser.utils import key_normalize\n",
    "\n",
    "import warnings\n",
    "warnings.filterwarnings(\"ignore\")"
   ]
  },
  {
   "cell_type": "code",
   "execution_count": 2,
   "id": "5fb674dcd77b18e8",
   "metadata": {
    "ExecuteTime": {
     "end_time": "2025-08-05T12:24:13.323446Z",
     "start_time": "2025-08-05T12:24:13.319514Z"
    }
   },
   "outputs": [],
   "source": [
    "def create_sort(text, level=1):\n",
    "    if isinstance(text, str):\n",
    "        if level == 1:\n",
    "            text = re.sub(r'^Tỉnh\\s|Thành phố\\s|Thủ đô\\s', '', text, flags=re.IGNORECASE)\n",
    "        else:\n",
    "            text = re.sub(r'^Phường\\s|Đặc khu\\s|Xã\\s', '', text, flags=re.IGNORECASE)\n",
    "\n",
    "        return text.strip()\n",
    "    return text\n",
    "\n",
    "district_type_acronym = {\n",
    "    'Quận': 'q',\n",
    "    'Thị xã': 'tx',\n",
    "    'Thành phố': 'tp',\n",
    "    'Huyện': 'h',\n",
    "}\n",
    "ward_type_acronym = {\n",
    "    'Phường': 'p',\n",
    "    'Đặc khu': 'dk',\n",
    "    'Xã': 'x'\n",
    "}\n",
    "def create_keywords(row, level=1):\n",
    "    keywords = []\n",
    "    if level == 1:\n",
    "        keywords.append(row['provinceKey'])\n",
    "        keywords.append(row['provinceShortKey'])\n",
    "        if pd.notnull(row['provinceAlias']):\n",
    "            aliases = json.loads(row['provinceAlias'])\n",
    "            for a in aliases:\n",
    "                keywords.append(key_normalize(a))\n",
    "\n",
    "    else:\n",
    "        keywords.append(row['wardKey'])\n",
    "        if not row['wardShortKeyDuplicated']:\n",
    "            keywords.append(row['wardShortKey'])\n",
    "        else:\n",
    "            keywords.append(key_normalize(f\"{row['wardShortKey']} {row['wardType']}\"))\n",
    "            keywords.append(key_normalize(f\"{ward_type_acronym[row['wardType']]} {row['wardShortKey']}\"))\n",
    "\n",
    "        if pd.notnull(row['wardAlias']):\n",
    "            aliases = json.loads(row['wardAlias'])\n",
    "            for a in aliases:\n",
    "                keywords.append(key_normalize(a))\n",
    "\n",
    "    keywords = list(set(keywords))\n",
    "    keywords = sorted(keywords, key=len, reverse=True)\n",
    "    return json.dumps(keywords)"
   ]
  },
  {
   "cell_type": "code",
   "execution_count": 3,
   "id": "3ef3009272ba92b2",
   "metadata": {
    "ExecuteTime": {
     "end_time": "2025-08-05T12:24:13.425291Z",
     "start_time": "2025-08-05T12:24:13.342254Z"
    }
   },
   "outputs": [],
   "source": [
    "df = pd.read_csv(BASE_DIR / 'data/processed/convert_legacy_2025_with_location_and_default_ward.csv')"
   ]
  },
  {
   "cell_type": "code",
   "execution_count": 4,
   "id": "5e77c57e2a51e836",
   "metadata": {
    "ExecuteTime": {
     "end_time": "2025-08-05T12:24:13.513507Z",
     "start_time": "2025-08-05T12:24:13.435608Z"
    }
   },
   "outputs": [],
   "source": [
    "df_63 = pd.read_csv(BASE_DIR / 'data/interim/legacy_63-province-10040-ward_with_location_and_key.csv')\n",
    "df_63 = df_63[['province', 'district', 'ward', 'provinceKey', 'districtKey', 'wardKey', 'wardKeyDuplicated']]"
   ]
  },
  {
   "cell_type": "code",
   "execution_count": 5,
   "id": "659e9298a255286f",
   "metadata": {
    "ExecuteTime": {
     "end_time": "2025-08-05T12:24:13.566828Z",
     "start_time": "2025-08-05T12:24:13.523088Z"
    }
   },
   "outputs": [],
   "source": [
    "df_34 = df[['newProvince', 'newWard']].drop_duplicates().copy()\n",
    "\n",
    "# ENRICH DATA\n",
    "unit_cols = ['newProvince', 'newWard']\n",
    "for col in unit_cols:\n",
    "    # Create key\n",
    "    df_34[f\"{col}Key\"] = df_34[f\"{col}\"].apply(key_normalize)\n",
    "\n",
    "\n",
    "# Check ward key\n",
    "count_ward_key = df_34.groupby(['newProvinceKey', 'newWardKey']).size().reset_index(name='count').sort_values(by=['count'], ascending=False)\n",
    "duplicated_ward_key = count_ward_key[count_ward_key['count']>1].copy()\n",
    "duplicated_ward_key['newWardKeyDuplicated'] = True\n",
    "duplicated_ward_key.drop(columns=['count'], inplace=True)\n",
    "\n",
    "# Add data to df_34\n",
    "df_34 = pd.merge(df_34, duplicated_ward_key, on=['newProvinceKey', 'newWardKey'], how='left')\n",
    "df_34['newWardKeyDuplicated'].fillna(False, inplace=True)\n",
    "\n",
    "# Change key and short key to accented if newWardKeyDuplicated = True\n",
    "df_34['newWardKey'] = np.where(df_34['newWardKeyDuplicated']==True, df_34['newWard'].apply(key_normalize, args=([], False)), df_34['newWardKey'])"
   ]
  },
  {
   "cell_type": "code",
   "execution_count": 6,
   "id": "99b62ca412827aaa",
   "metadata": {
    "ExecuteTime": {
     "end_time": "2025-08-05T12:24:13.598128Z",
     "start_time": "2025-08-05T12:24:13.577573Z"
    }
   },
   "outputs": [],
   "source": [
    "df = pd.merge(df, df_63, on=['province', 'district', 'ward'], how='left')\n",
    "df = pd.merge(df, df_34, on=['newProvince', 'newWard'], how='left')\n",
    "df['provinceDistrictWardKey'] =  df['provinceKey'] + '_' + df['districtKey'] + '_' + df['wardKey'].fillna('')"
   ]
  },
  {
   "cell_type": "code",
   "execution_count": 7,
   "id": "33bb236ae805af36",
   "metadata": {
    "ExecuteTime": {
     "end_time": "2025-08-05T12:24:13.624339Z",
     "start_time": "2025-08-05T12:24:13.609430Z"
    }
   },
   "outputs": [
    {
     "data": {
      "text/html": [
       "<div>\n",
       "<style scoped>\n",
       "    .dataframe tbody tr th:only-of-type {\n",
       "        vertical-align: middle;\n",
       "    }\n",
       "\n",
       "    .dataframe tbody tr th {\n",
       "        vertical-align: top;\n",
       "    }\n",
       "\n",
       "    .dataframe thead th {\n",
       "        text-align: right;\n",
       "    }\n",
       "</style>\n",
       "<table border=\"1\" class=\"dataframe\">\n",
       "  <thead>\n",
       "    <tr style=\"text-align: right;\">\n",
       "      <th></th>\n",
       "      <th>newProvinceKey</th>\n",
       "      <th>provinceDistrictWardKey</th>\n",
       "      <th>count</th>\n",
       "    </tr>\n",
       "  </thead>\n",
       "  <tbody>\n",
       "    <tr>\n",
       "      <th>0</th>\n",
       "      <td>thanhphocantho</td>\n",
       "      <td>thanhphocantho_huyencodo_thitrancodo</td>\n",
       "      <td>1</td>\n",
       "    </tr>\n",
       "    <tr>\n",
       "      <th>6374</th>\n",
       "      <td>tinhninhbinh</td>\n",
       "      <td>tinhninhbinh_huyennhoquan_xadongphong</td>\n",
       "      <td>1</td>\n",
       "    </tr>\n",
       "    <tr>\n",
       "      <th>6376</th>\n",
       "      <td>tinhninhbinh</td>\n",
       "      <td>tinhninhbinh_huyennhoquan_xagialam</td>\n",
       "      <td>1</td>\n",
       "    </tr>\n",
       "    <tr>\n",
       "      <th>6377</th>\n",
       "      <td>tinhninhbinh</td>\n",
       "      <td>tinhninhbinh_huyennhoquan_xagiason</td>\n",
       "      <td>1</td>\n",
       "    </tr>\n",
       "    <tr>\n",
       "      <th>6378</th>\n",
       "      <td>tinhninhbinh</td>\n",
       "      <td>tinhninhbinh_huyennhoquan_xagiathuy</td>\n",
       "      <td>1</td>\n",
       "    </tr>\n",
       "    <tr>\n",
       "      <th>...</th>\n",
       "      <td>...</td>\n",
       "      <td>...</td>\n",
       "      <td>...</td>\n",
       "    </tr>\n",
       "    <tr>\n",
       "      <th>3190</th>\n",
       "      <td>tinhdongnai</td>\n",
       "      <td>tinhdongnai_huyenthongnhat_xalo25</td>\n",
       "      <td>1</td>\n",
       "    </tr>\n",
       "    <tr>\n",
       "      <th>3191</th>\n",
       "      <td>tinhdongnai</td>\n",
       "      <td>tinhdongnai_huyenthongnhat_xaquangtrung</td>\n",
       "      <td>1</td>\n",
       "    </tr>\n",
       "    <tr>\n",
       "      <th>3192</th>\n",
       "      <td>tinhdongnai</td>\n",
       "      <td>tinhdongnai_huyenthongnhat_xaxuanthien</td>\n",
       "      <td>1</td>\n",
       "    </tr>\n",
       "    <tr>\n",
       "      <th>3193</th>\n",
       "      <td>tinhdongnai</td>\n",
       "      <td>tinhdongnai_huyentrangbom_thitrantrangbom</td>\n",
       "      <td>1</td>\n",
       "    </tr>\n",
       "    <tr>\n",
       "      <th>9568</th>\n",
       "      <td>tinhvinhlong</td>\n",
       "      <td>tinhvinhlong_thixabinhminh_xãđôngthạnh</td>\n",
       "      <td>1</td>\n",
       "    </tr>\n",
       "  </tbody>\n",
       "</table>\n",
       "<p>9569 rows × 3 columns</p>\n",
       "</div>"
      ],
      "text/plain": [
       "      newProvinceKey                    provinceDistrictWardKey  count\n",
       "0     thanhphocantho       thanhphocantho_huyencodo_thitrancodo      1\n",
       "6374    tinhninhbinh      tinhninhbinh_huyennhoquan_xadongphong      1\n",
       "6376    tinhninhbinh         tinhninhbinh_huyennhoquan_xagialam      1\n",
       "6377    tinhninhbinh         tinhninhbinh_huyennhoquan_xagiason      1\n",
       "6378    tinhninhbinh        tinhninhbinh_huyennhoquan_xagiathuy      1\n",
       "...              ...                                        ...    ...\n",
       "3190     tinhdongnai          tinhdongnai_huyenthongnhat_xalo25      1\n",
       "3191     tinhdongnai    tinhdongnai_huyenthongnhat_xaquangtrung      1\n",
       "3192     tinhdongnai     tinhdongnai_huyenthongnhat_xaxuanthien      1\n",
       "3193     tinhdongnai  tinhdongnai_huyentrangbom_thitrantrangbom      1\n",
       "9568    tinhvinhlong     tinhvinhlong_thixabinhminh_xãđôngthạnh      1\n",
       "\n",
       "[9569 rows x 3 columns]"
      ]
     },
     "execution_count": 7,
     "metadata": {},
     "output_type": "execute_result"
    }
   ],
   "source": [
    "df_no_divided = df[df['isDividedWard']==False]\n",
    "df_no_divided.groupby(['newProvinceKey', 'provinceDistrictWardKey']).size().reset_index(name='count').sort_values(by=['count'], ascending=False)"
   ]
  },
  {
   "cell_type": "code",
   "execution_count": 8,
   "id": "dd861e33763acdf4",
   "metadata": {
    "ExecuteTime": {
     "end_time": "2025-08-05T12:24:13.695050Z",
     "start_time": "2025-08-05T12:24:13.688603Z"
    }
   },
   "outputs": [
    {
     "data": {
      "text/html": [
       "<div>\n",
       "<style scoped>\n",
       "    .dataframe tbody tr th:only-of-type {\n",
       "        vertical-align: middle;\n",
       "    }\n",
       "\n",
       "    .dataframe tbody tr th {\n",
       "        vertical-align: top;\n",
       "    }\n",
       "\n",
       "    .dataframe thead th {\n",
       "        text-align: right;\n",
       "    }\n",
       "</style>\n",
       "<table border=\"1\" class=\"dataframe\">\n",
       "  <thead>\n",
       "    <tr style=\"text-align: right;\">\n",
       "      <th></th>\n",
       "      <th>newProvinceKey</th>\n",
       "      <th>provinceDistrictWardKey</th>\n",
       "      <th>count</th>\n",
       "    </tr>\n",
       "  </thead>\n",
       "  <tbody>\n",
       "    <tr>\n",
       "      <th>265</th>\n",
       "      <td>thanhphohanoi</td>\n",
       "      <td>thanhphohanoi_quannamtuliem_phuongdaimo</td>\n",
       "      <td>5</td>\n",
       "    </tr>\n",
       "    <tr>\n",
       "      <th>260</th>\n",
       "      <td>thanhphohanoi</td>\n",
       "      <td>thanhphohanoi_quanlongbien_phuongphucdong</td>\n",
       "      <td>4</td>\n",
       "    </tr>\n",
       "    <tr>\n",
       "      <th>168</th>\n",
       "      <td>thanhphohanoi</td>\n",
       "      <td>thanhphohanoi_huyenthanhtri_xatantrieu</td>\n",
       "      <td>4</td>\n",
       "    </tr>\n",
       "    <tr>\n",
       "      <th>262</th>\n",
       "      <td>thanhphohanoi</td>\n",
       "      <td>thanhphohanoi_quanlongbien_phuongthachban</td>\n",
       "      <td>4</td>\n",
       "    </tr>\n",
       "    <tr>\n",
       "      <th>213</th>\n",
       "      <td>thanhphohanoi</td>\n",
       "      <td>thanhphohanoi_quanhadong_phuongduongnoi</td>\n",
       "      <td>4</td>\n",
       "    </tr>\n",
       "    <tr>\n",
       "      <th>...</th>\n",
       "      <td>...</td>\n",
       "      <td>...</td>\n",
       "      <td>...</td>\n",
       "    </tr>\n",
       "    <tr>\n",
       "      <th>152</th>\n",
       "      <td>thanhphohanoi</td>\n",
       "      <td>thanhphohanoi_huyenthachthat_xabinhyen</td>\n",
       "      <td>2</td>\n",
       "    </tr>\n",
       "    <tr>\n",
       "      <th>151</th>\n",
       "      <td>thanhphohanoi</td>\n",
       "      <td>thanhphohanoi_huyensocson_xaquangtien</td>\n",
       "      <td>2</td>\n",
       "    </tr>\n",
       "    <tr>\n",
       "      <th>150</th>\n",
       "      <td>thanhphohanoi</td>\n",
       "      <td>thanhphohanoi_huyensocson_xaphuminh</td>\n",
       "      <td>2</td>\n",
       "    </tr>\n",
       "    <tr>\n",
       "      <th>149</th>\n",
       "      <td>thanhphohanoi</td>\n",
       "      <td>thanhphohanoi_huyensocson_xamaidinh</td>\n",
       "      <td>2</td>\n",
       "    </tr>\n",
       "    <tr>\n",
       "      <th>470</th>\n",
       "      <td>tinhvinhlong</td>\n",
       "      <td>tinhvinhlong_thixabinhminh_phuongthanhphuoc</td>\n",
       "      <td>2</td>\n",
       "    </tr>\n",
       "  </tbody>\n",
       "</table>\n",
       "<p>471 rows × 3 columns</p>\n",
       "</div>"
      ],
      "text/plain": [
       "    newProvinceKey                      provinceDistrictWardKey  count\n",
       "265  thanhphohanoi      thanhphohanoi_quannamtuliem_phuongdaimo      5\n",
       "260  thanhphohanoi    thanhphohanoi_quanlongbien_phuongphucdong      4\n",
       "168  thanhphohanoi       thanhphohanoi_huyenthanhtri_xatantrieu      4\n",
       "262  thanhphohanoi    thanhphohanoi_quanlongbien_phuongthachban      4\n",
       "213  thanhphohanoi      thanhphohanoi_quanhadong_phuongduongnoi      4\n",
       "..             ...                                          ...    ...\n",
       "152  thanhphohanoi       thanhphohanoi_huyenthachthat_xabinhyen      2\n",
       "151  thanhphohanoi        thanhphohanoi_huyensocson_xaquangtien      2\n",
       "150  thanhphohanoi          thanhphohanoi_huyensocson_xaphuminh      2\n",
       "149  thanhphohanoi          thanhphohanoi_huyensocson_xamaidinh      2\n",
       "470   tinhvinhlong  tinhvinhlong_thixabinhminh_phuongthanhphuoc      2\n",
       "\n",
       "[471 rows x 3 columns]"
      ]
     },
     "execution_count": 8,
     "metadata": {},
     "output_type": "execute_result"
    }
   ],
   "source": [
    "df_divided = df[df['isDividedWard']==True]\n",
    "df_divided.groupby(['newProvinceKey', 'provinceDistrictWardKey']).size().reset_index(name='count').sort_values(by=['count'], ascending=False)"
   ]
  },
  {
   "cell_type": "code",
   "execution_count": 9,
   "id": "e2a0877ee297c363",
   "metadata": {
    "ExecuteTime": {
     "end_time": "2025-08-05T12:24:13.783308Z",
     "start_time": "2025-08-05T12:24:13.778190Z"
    }
   },
   "outputs": [],
   "source": [
    "df_province = df[['newProvinceKey', 'provinceKey']].drop_duplicates().reset_index(drop=True)\n",
    "DICT_PROVINCE = {}\n",
    "for newProvinceKey, group in df_province.groupby('newProvinceKey'):\n",
    "    DICT_PROVINCE[newProvinceKey] = group['provinceKey'].values.tolist()"
   ]
  },
  {
   "cell_type": "code",
   "execution_count": 10,
   "id": "d904a6ab9ea4a816",
   "metadata": {
    "ExecuteTime": {
     "end_time": "2025-08-05T12:24:13.936053Z",
     "start_time": "2025-08-05T12:24:13.865488Z"
    }
   },
   "outputs": [],
   "source": [
    "DICT_PROVINCE_WARD_NO_DIVIDED = {}\n",
    "\n",
    "for newProvinceKey, group in df_no_divided.groupby('newProvinceKey'):\n",
    "    ward_dict = {}\n",
    "\n",
    "    for newWardKey, group in group.groupby('newWardKey'):\n",
    "        ward_dict[newWardKey] = group['provinceDistrictWardKey'].values.tolist()\n",
    "\n",
    "    DICT_PROVINCE_WARD_NO_DIVIDED[newProvinceKey] = ward_dict"
   ]
  },
  {
   "cell_type": "code",
   "execution_count": 12,
   "id": "82c81a9a2eb35e30",
   "metadata": {
    "ExecuteTime": {
     "end_time": "2025-08-05T12:24:14.292102Z",
     "start_time": "2025-08-05T12:24:14.130525Z"
    }
   },
   "outputs": [],
   "source": [
    "DICT_PROVINCE_WARD_DIVIDED = {}\n",
    "for newProvinceKey, group in df_divided.groupby('newProvinceKey'):\n",
    "    keyword_dict = {}\n",
    "\n",
    "    for provinceDistrictWardKey, group in group.groupby('provinceDistrictWardKey'):\n",
    "        ward_dict = []\n",
    "\n",
    "        for _, group in group.groupby('newWardKey'):\n",
    "            ward = {\n",
    "                'newWardKey': group['newWardKey'].iloc[0],\n",
    "                'isDefaultNewWard': group['isDefaultNewWard'].iloc[0],\n",
    "                'newWardLat': group['newWardLat'].iloc[0],\n",
    "                'newWardLon': group['newWardLon'].iloc[0],\n",
    "                'newWardAreaKm2': group['newWardAreaKm2'].iloc[0],\n",
    "            }\n",
    "            ward_dict.append(ward)\n",
    "\n",
    "        keyword_dict[provinceDistrictWardKey] = ward_dict\n",
    "\n",
    "    DICT_PROVINCE_WARD_DIVIDED[newProvinceKey] = keyword_dict"
   ]
  },
  {
   "cell_type": "code",
   "execution_count": 14,
   "id": "b9b2cb9dcd2a0e3d",
   "metadata": {
    "ExecuteTime": {
     "end_time": "2025-08-05T12:24:14.394460Z",
     "start_time": "2025-08-05T12:24:14.390267Z"
    }
   },
   "outputs": [],
   "source": [
    "converter_data = {\n",
    "    'DICT_PROVINCE': DICT_PROVINCE,\n",
    "    'DICT_PROVINCE_WARD_NO_DIVIDED': DICT_PROVINCE_WARD_NO_DIVIDED,\n",
    "    'DICT_PROVINCE_WARD_DIVIDED': DICT_PROVINCE_WARD_DIVIDED\n",
    "}"
   ]
  },
  {
   "cell_type": "code",
   "execution_count": 15,
   "id": "2ba86908a10bf0bb",
   "metadata": {
    "ExecuteTime": {
     "end_time": "2025-08-05T12:24:14.486286Z",
     "start_time": "2025-08-05T12:24:14.469889Z"
    }
   },
   "outputs": [],
   "source": [
    "with open(BASE_DIR / 'vietnamadminunits/data/converter_2025.json', 'w') as f:\n",
    "    json.dump(converter_data, f)"
   ]
  },
  {
   "cell_type": "code",
   "execution_count": 16,
   "id": "63ee35881fa2de4b",
   "metadata": {
    "ExecuteTime": {
     "end_time": "2025-08-05T12:24:14.516820Z",
     "start_time": "2025-08-05T12:24:14.511641Z"
    }
   },
   "outputs": [
    {
     "data": {
      "text/html": [
       "<div>\n",
       "<style scoped>\n",
       "    .dataframe tbody tr th:only-of-type {\n",
       "        vertical-align: middle;\n",
       "    }\n",
       "\n",
       "    .dataframe tbody tr th {\n",
       "        vertical-align: top;\n",
       "    }\n",
       "\n",
       "    .dataframe thead th {\n",
       "        text-align: right;\n",
       "    }\n",
       "</style>\n",
       "<table border=\"1\" class=\"dataframe\">\n",
       "  <thead>\n",
       "    <tr style=\"text-align: right;\">\n",
       "      <th></th>\n",
       "      <th>provinceCode</th>\n",
       "      <th>isMergedProvince</th>\n",
       "      <th>districtCode</th>\n",
       "      <th>districtType</th>\n",
       "      <th>districtShortDuplicated</th>\n",
       "      <th>wardCode</th>\n",
       "      <th>wardType</th>\n",
       "      <th>wardShortDuplicated</th>\n",
       "      <th>isMergedWard</th>\n",
       "      <th>isDividedWard</th>\n",
       "      <th>...</th>\n",
       "      <th>isDefaultNewWard</th>\n",
       "      <th>newProvinceShort</th>\n",
       "      <th>provinceKey</th>\n",
       "      <th>districtKey</th>\n",
       "      <th>wardKey</th>\n",
       "      <th>wardKeyDuplicated</th>\n",
       "      <th>newProvinceKey</th>\n",
       "      <th>newWardKey</th>\n",
       "      <th>newWardKeyDuplicated</th>\n",
       "      <th>provinceDistrictWardKey</th>\n",
       "    </tr>\n",
       "  </thead>\n",
       "  <tbody>\n",
       "  </tbody>\n",
       "</table>\n",
       "<p>0 rows × 53 columns</p>\n",
       "</div>"
      ],
      "text/plain": [
       "Empty DataFrame\n",
       "Columns: [provinceCode, isMergedProvince, districtCode, districtType, districtShortDuplicated, wardCode, wardType, wardShortDuplicated, isMergedWard, isDividedWard, province, district, ward, provinceShort, districtShort, wardShort, newProvince, newWard, newWardShort, newWardType, newProvinceCode, newProvinceLat, newProvinceLon, newWardCode, newWardLat, newWardLon, newWardAreaKm2, provinceLat, provinceLon, provinceBounds, provinceGeoAddress, districtAddress, districtLat, districtLon, districtBounds, districtGeoAddress, wardAddress, wardLat, wardLon, wardBounds, wardGeoAddress, isNewWardPolygonContainsWard, isNearestNewWard, isDefaultNewWard, newProvinceShort, provinceKey, districtKey, wardKey, wardKeyDuplicated, newProvinceKey, newWardKey, newWardKeyDuplicated, provinceDistrictWardKey]\n",
       "Index: []\n",
       "\n",
       "[0 rows x 53 columns]"
      ]
     },
     "execution_count": 16,
     "metadata": {},
     "output_type": "execute_result"
    }
   ],
   "source": [
    "df[df['isDividedWard'] & df['wardKeyDuplicated']]\n",
    "# May quá không có =))"
   ]
  }
 ],
 "metadata": {
  "kernelspec": {
   "display_name": "base",
   "language": "python",
   "name": "python3"
  },
  "language_info": {
   "codemirror_mode": {
    "name": "ipython",
    "version": 3
   },
   "file_extension": ".py",
   "mimetype": "text/x-python",
   "name": "python",
   "nbconvert_exporter": "python",
   "pygments_lexer": "ipython3",
   "version": "3.12.7"
  }
 },
 "nbformat": 4,
 "nbformat_minor": 5
}
