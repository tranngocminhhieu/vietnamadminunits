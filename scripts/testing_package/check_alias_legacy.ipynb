{
 "cells": [
  {
   "cell_type": "code",
   "execution_count": 1,
   "id": "5221d268",
   "metadata": {},
   "outputs": [],
   "source": [
    "from vietnamadminunits.database import get_data\n",
    "import pandas as pd"
   ]
  },
  {
   "cell_type": "code",
   "execution_count": 2,
   "id": "a2a69937",
   "metadata": {},
   "outputs": [],
   "source": [
    "df = pd.DataFrame(get_data(table='admin_units_legacy'))\n",
    "df_alias_ward = pd.read_csv('../../data/alias_keywords/legacy/alias_ward.csv')"
   ]
  },
  {
   "cell_type": "code",
   "execution_count": 3,
   "id": "64b17ff9",
   "metadata": {},
   "outputs": [],
   "source": [
    "df_alias_ward['key'] = df_alias_ward['province_key'] + '_' + df_alias_ward['district_key'] + '_' + df_alias_ward['alias_keyword']\n",
    "df['key'] = df['provinceKey'] + '_' + df['districtKey'] + '_' + df['wardKey']"
   ]
  },
  {
   "cell_type": "code",
   "execution_count": 4,
   "id": "b4229fae",
   "metadata": {},
   "outputs": [
    {
     "data": {
      "text/html": [
       "<div>\n",
       "<style scoped>\n",
       "    .dataframe tbody tr th:only-of-type {\n",
       "        vertical-align: middle;\n",
       "    }\n",
       "\n",
       "    .dataframe tbody tr th {\n",
       "        vertical-align: top;\n",
       "    }\n",
       "\n",
       "    .dataframe thead th {\n",
       "        text-align: right;\n",
       "    }\n",
       "</style>\n",
       "<table border=\"1\" class=\"dataframe\">\n",
       "  <thead>\n",
       "    <tr style=\"text-align: right;\">\n",
       "      <th></th>\n",
       "      <th>province_key</th>\n",
       "      <th>district_key</th>\n",
       "      <th>ward_key</th>\n",
       "      <th>alias_keyword</th>\n",
       "      <th>source</th>\n",
       "      <th>year</th>\n",
       "      <th>key</th>\n",
       "    </tr>\n",
       "  </thead>\n",
       "  <tbody>\n",
       "  </tbody>\n",
       "</table>\n",
       "</div>"
      ],
      "text/plain": [
       "Empty DataFrame\n",
       "Columns: [province_key, district_key, ward_key, alias_keyword, source, year, key]\n",
       "Index: []"
      ]
     },
     "execution_count": 4,
     "metadata": {},
     "output_type": "execute_result"
    }
   ],
   "source": [
    "df_alias_ward[df_alias_ward['key'].isin(df['key'])]"
   ]
  },
  {
   "cell_type": "code",
   "execution_count": null,
   "id": "dbc8098c",
   "metadata": {},
   "outputs": [],
   "source": [
    "df[(df['provinceKey'].str.contains('quangtri')) & (df['districtKey'].str.contains('camlo'))][['province', 'district', 'districtShort', 'provinceKey', 'districtKey', 'ward', 'wardKey', 'wardKeywords']].drop_duplicates()"
   ]
  },
  {
   "cell_type": "code",
   "execution_count": null,
   "id": "4432e391",
   "metadata": {},
   "outputs": [],
   "source": []
  }
 ],
 "metadata": {
  "kernelspec": {
   "display_name": "base",
   "language": "python",
   "name": "python3"
  },
  "language_info": {
   "codemirror_mode": {
    "name": "ipython",
    "version": 3
   },
   "file_extension": ".py",
   "mimetype": "text/x-python",
   "name": "python",
   "nbconvert_exporter": "python",
   "pygments_lexer": "ipython3",
   "version": "3.12.7"
  }
 },
 "nbformat": 4,
 "nbformat_minor": 5
}
