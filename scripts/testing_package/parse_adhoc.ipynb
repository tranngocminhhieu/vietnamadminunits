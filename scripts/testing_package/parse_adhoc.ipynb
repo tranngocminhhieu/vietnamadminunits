{
 "cells": [
  {
   "cell_type": "code",
   "execution_count": 1,
   "id": "initial_id",
   "metadata": {
    "ExecuteTime": {
     "end_time": "2025-08-05T13:41:23.993653Z",
     "start_time": "2025-08-05T13:41:23.436832Z"
    },
    "collapsed": true
   },
   "outputs": [],
   "source": [
    "from vietnamadminunits import parse_address, convert_address"
   ]
  },
  {
   "cell_type": "code",
   "execution_count": 2,
   "id": "382f5aa76ebd7189",
   "metadata": {
    "ExecuteTime": {
     "end_time": "2025-08-04T07:59:01.942503Z",
     "start_time": "2025-08-04T07:59:01.934782Z"
    }
   },
   "outputs": [
    {
     "name": "stdout",
     "output_type": "stream",
     "text": [
      "Admin Unit: Văn Phòng Bán Hàng, Dự Án Vinhomes Royal Island Đảo Vũ Yên, Phường Thủy Hà, Thành phố Thủy Nguyên, Thành phố Hải Phòng\n",
      "Attribute       | Value                    \n",
      "----------------------------------------\n",
      "province        | Thành phố Hải Phòng      \n",
      "district        | Thành phố Thủy Nguyên    \n",
      "ward            | Phường Thủy Hà           \n",
      "street          | Văn Phòng Bán Hàng, Dự Án Vinhomes Royal Island Đảo Vũ Yên\n",
      "short_province  | Hải Phòng                \n",
      "short_district  | Thủy Nguyên              \n",
      "short_ward      | Thủy Hà                  \n",
      "district_type   | Thành phố                \n",
      "ward_type       | Phường                   \n",
      "province_code   | 31                       \n",
      "district_code   | 311                      \n",
      "ward_code       | 11530                    \n",
      "latitude        | 20.914459                \n",
      "longitude       | 106.714618               \n"
     ]
    }
   ],
   "source": [
    "address = 'Văn phòng bán hàng, Dự Án Vinhomes Royal Island Đảo Vũ Yên, Xã Thủy Triều, Huyện Thủy Nguyên, Hải Phòng'\n",
    "\n",
    "print(parse_address(address, mode='LEGACY'))"
   ]
  }
 ],
 "metadata": {
  "kernelspec": {
   "display_name": "base",
   "language": "python",
   "name": "python3"
  },
  "language_info": {
   "codemirror_mode": {
    "name": "ipython",
    "version": 3
   },
   "file_extension": ".py",
   "mimetype": "text/x-python",
   "name": "python",
   "nbconvert_exporter": "python",
   "pygments_lexer": "ipython3",
   "version": "3.12.7"
  }
 },
 "nbformat": 4,
 "nbformat_minor": 5
}
