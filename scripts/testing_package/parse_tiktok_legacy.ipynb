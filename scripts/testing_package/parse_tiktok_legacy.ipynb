{
 "cells": [
  {
   "cell_type": "code",
   "execution_count": 1,
   "id": "initial_id",
   "metadata": {
    "ExecuteTime": {
     "end_time": "2025-08-06T07:08:57.668083Z",
     "start_time": "2025-08-06T07:08:57.665514Z"
    },
    "collapsed": true
   },
   "outputs": [],
   "source": [
    "from vietnamadminunits.pandas import standardize_admin_unit_columns\n",
    "from vietnamadminunits.database import get_data\n",
    "from vietnamadminunits import parse_address\n",
    "import pandas as pd"
   ]
  },
  {
   "cell_type": "code",
   "execution_count": 2,
   "id": "edbc07f91be239a6",
   "metadata": {},
   "outputs": [
    {
     "name": "stderr",
     "output_type": "stream",
     "text": [
      "Standardizing unique administrative units: 100%|██████████| 11482/11482 [00:02<00:00, 4575.99it/s]\n"
     ]
    },
    {
     "name": "stdout",
     "output_type": "stream",
     "text": [
      "(763, 7)\n"
     ]
    }
   ],
   "source": [
    "df = pd.read_csv('data/input/tiktok_legacy_2023-2025.csv')\n",
    "sd_df = standardize_admin_unit_columns(df, province='province', district='district', ward='ward', parse_mode='LEGACY', short_name=False)\n",
    "sd_df = sd_df[(sd_df['standardized_ward'].isna()) & (~sd_df['standardized_district'].isin(['Huyện Bạch Long Vĩ', 'Huyện Cồn Cỏ', 'Huyện Hoàng Sa', 'Huyện Lý Sơn', 'Huyện Côn Đảo']))].sort_values(by=['province', 'district', 'ward'])\n",
    "print(sd_df.shape)\n",
    "if sd_df.shape[0]:\n",
    "    sd_df.to_excel('data/output/tiktok_legacy_2023-2025_missing.xlsx', index=False)\n",
    "\n",
    "df = pd.DataFrame(get_data(table='admin_units_legacy'))"
   ]
  },
  {
   "cell_type": "code",
   "execution_count": null,
   "id": "c0bd28e1ee7a4939",
   "metadata": {
    "ExecuteTime": {
     "end_time": "2025-08-06T08:12:45.537701Z",
     "start_time": "2025-08-06T08:12:45.527969Z"
    }
   },
   "outputs": [],
   "source": [
    "df[(df['provinceKey'].str.contains('vungtau')) & (df['districtKey'].str.contains('condao'))][['province', 'district', 'districtShort', 'provinceKey', 'districtKey', 'ward', 'wardKey', 'wardKeywords']].drop_duplicates()"
   ]
  },
  {
   "cell_type": "code",
   "execution_count": null,
   "id": "4f2bf4cd",
   "metadata": {},
   "outputs": [],
   "source": [
    "df[df['ward'].isna()]['district'].unique()"
   ]
  },
  {
   "cell_type": "code",
   "execution_count": null,
   "id": "f44d5d45",
   "metadata": {},
   "outputs": [],
   "source": [
    "df[(df['provinceKey'].str.contains('bacgiang')) & (df['wardKey'].str.contains('thanhhai'))][['province', 'district', 'districtShort', 'provinceKey', 'districtKey', 'ward', 'wardKey', 'wardKeywords']].drop_duplicates()"
   ]
  }
 ],
 "metadata": {
  "kernelspec": {
   "display_name": "base",
   "language": "python",
   "name": "python3"
  },
  "language_info": {
   "codemirror_mode": {
    "name": "ipython",
    "version": 3
   },
   "file_extension": ".py",
   "mimetype": "text/x-python",
   "name": "python",
   "nbconvert_exporter": "python",
   "pygments_lexer": "ipython3",
   "version": "3.12.7"
  }
 },
 "nbformat": 4,
 "nbformat_minor": 5
}
